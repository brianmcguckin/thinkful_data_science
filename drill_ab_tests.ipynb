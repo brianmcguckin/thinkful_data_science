{
 "cells": [
  {
   "cell_type": "markdown",
   "metadata": {},
   "source": [
    "### For each of the following questions, outline how you could use an A/B test to find an answer. Be sure to identify all five key components of an A/B test we outlined above."
   ]
  },
  {
   "cell_type": "markdown",
   "metadata": {},
   "source": [
    "#### Does a new supplement help people sleep better?\n",
    "\n",
    "Two Versions: Control version is existing supplement or placebo, test version is the new supplement\n",
    "\n",
    "Sample: Start off sample with existing supplement or placebo, and measure results. Then switch one subset to the new supplement while leaving the rest as a control group, and compare results of those taking the new supplement to those who haven't been given the new supplement.\n",
    "\n",
    "Hypothesis: The test group will show improved sleep relative to the control group\n",
    "\n",
    "Outcome: key metric will be time spent sleeping\n",
    "\n",
    "Other Measured Variables: Other measured variables could include different objective variables such as time to fall aslseep, how many times they wake up during the night, and also the particpants subjective experience, how they feel after sleeping, seeing if their dreams are affected, etc."
   ]
  },
  {
   "cell_type": "markdown",
   "metadata": {},
   "source": [
    "#### Will new uniforms help a gym's business?\n",
    "\n",
    "Two Versions: existing uniforms & the new uniforms\n",
    "\n",
    "Sample: Keep any existing marketing campaigns steady between the 2 uniform periods, and compare conversion rate of prospective customers to signing up for membership. \n",
    "\n",
    "Hypothesis: New uniforms will results in more new business\n",
    "\n",
    "Outcome: Measure the rate of prospective customers resulting in new memberships between old and new uniforms. Key metric is new membership rate\n",
    "\n",
    "Other Measured Variables: could also measure variables relating to the existing members, such as personal training sesssion purchases, supplement/snack/smoothie sales, or overall gym participation (ie do existing customers frequent the gym more often, or spend more time each session, etc)"
   ]
  },
  {
   "cell_type": "markdown",
   "metadata": {},
   "source": [
    "#### Will a new homepage improve my online exotic pet rental business?\n",
    "\n",
    "Two Versions: exising homepage and new homepage\n",
    "\n",
    "Sample: randomly divide traffic (perhaps informed by IP to control for geographical difference) and show some site visitors the existing site and others the new site\n",
    "\n",
    "Hypothesis: The new site will result in more sales\n",
    "\n",
    "Outcome: Measure sales between the 2 groups\n",
    "\n",
    "Other Measured Variables: time spent on site, measuring how much people add to cart & their follow through rate, compare with IP addresses to see if there is any geographical preferences"
   ]
  },
  {
   "cell_type": "markdown",
   "metadata": {},
   "source": [
    "#### If I put 'please read' in the email subject will more people read my emails?\n",
    "\n",
    "Two Versions: email without 'please read' and email with 'please read'\n",
    "\n",
    "Sample: randomly divide email subscriber list to ensure that demographics are controlled for, control group gets regular email and test group gets 'please read' email\n",
    "\n",
    "Hypothesis: 'please read' emails will be opened more than the control emails\n",
    "\n",
    "Outcome: measure the rate of subscribers opening 'please read' emails\n",
    "\n",
    "Other Measured Variables: whether subscriber clicks links in email, if test group visits the site in question more or spends more time on site in question"
   ]
  },
  {
   "cell_type": "code",
   "execution_count": null,
   "metadata": {
    "collapsed": true
   },
   "outputs": [],
   "source": []
  }
 ],
 "metadata": {
  "kernelspec": {
   "display_name": "Python 3",
   "language": "python",
   "name": "python3"
  },
  "language_info": {
   "codemirror_mode": {
    "name": "ipython",
    "version": 3
   },
   "file_extension": ".py",
   "mimetype": "text/x-python",
   "name": "python",
   "nbconvert_exporter": "python",
   "pygments_lexer": "ipython3",
   "version": "3.6.1"
  }
 },
 "nbformat": 4,
 "nbformat_minor": 2
}
