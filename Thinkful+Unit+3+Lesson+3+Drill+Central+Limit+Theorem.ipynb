{
 "cells": [
  {
   "cell_type": "code",
   "execution_count": 1,
   "metadata": {
    "collapsed": true
   },
   "outputs": [],
   "source": [
    "import numpy as np\n",
    "import pandas as pd\n",
    "import scipy\n",
    "import matplotlib.pyplot as plt\n",
    "%matplotlib inline"
   ]
  },
  {
   "cell_type": "code",
   "execution_count": 8,
   "metadata": {},
   "outputs": [
    {
     "name": "stdout",
     "output_type": "stream",
     "text": [
      "Sample 1 mean = 2.12\n",
      "Sample 1 std = 1.3511476603243628\n",
      "Sample 2 mean = 5.21\n",
      "Sample 2 std = 1.6449620056402516\n"
     ]
    }
   ],
   "source": [
    "pop1 = np.random.binomial(10, 0.2, 10000)\n",
    "pop2 = np.random.binomial(10, 0.5, 10000)\n",
    "\n",
    "sample1 = np.random.choice(pop1, 100)\n",
    "sample2 = np.random.choice(pop2, 100)\n",
    "\n",
    "print('Sample 1 mean = {}'.format(np.mean(sample1)))\n",
    "print('Sample 1 std = {}'.format(np.std(sample1)))\n",
    "print('Sample 2 mean = {}'.format(np.mean(sample2)))\n",
    "print('Sample 2 std = {}'.format(np.std(sample2)))"
   ]
  },
  {
   "cell_type": "markdown",
   "metadata": {},
   "source": [
    "### 1) Increase the sample size to 1000, then calculate mean, std, and histograms. Do the same with a sample size of 20"
   ]
  },
  {
   "cell_type": "code",
   "execution_count": 33,
   "metadata": {},
   "outputs": [
    {
     "data": {
      "image/png": "[encoded data removed]",
      "text/plain": [
       "<matplotlib.figure.Figure at 0x1154f4978>"
      ]
     },
     "metadata": {},
     "output_type": "display_data"
    },
    {
     "name": "stdout",
     "output_type": "stream",
     "text": [
      "Sample1_1000 mean = 3.854\n",
      "Sample1_1000 std = 1.510855386858716\n",
      "Sample2_1000 mean = 5.039\n",
      "Sample2_1000 std = 1.5386614312447038\n"
     ]
    }
   ],
   "source": [
    "sample1_1000 = np.random.choice(pop1, 1000)\n",
    "sample2_1000 = np.random.choice(pop2, 1000)\n",
    "\n",
    "plt.hist(sample1_1000, alpha = 0.7, label = 'sample 1')\n",
    "plt.axvline(np.mean(sample1_1000), color = 'r', linestyle = 'solid', linewidth = 2)\n",
    "plt.hist(sample2_1000, alpha = 0.7, label = \"sample 2\")\n",
    "plt.axvline(np.mean(sample2_1000), color = 'b', linestyle = 'solid', linewidth =2)\n",
    "plt.legend(loc = 'upper right')\n",
    "plt.show()\n",
    "\n",
    "print('Sample1_1000 mean = {}'.format(np.mean(sample1_1000)))\n",
    "print('Sample1_1000 std = {}'.format(np.std(sample1_1000)))\n",
    "print('Sample2_1000 mean = {}'.format(np.mean(sample2_1000)))\n",
    "print('Sample2_1000 std = {}'.format(np.std(sample2_1000)))"
   ]
  },
  {
   "cell_type": "code",
   "execution_count": 25,
   "metadata": {},
   "outputs": [
    {
     "data": {
      "image/png": "[encoded data removed]",
      "text/plain": [
       "<matplotlib.figure.Figure at 0x114e6d358>"
      ]
     },
     "metadata": {},
     "output_type": "display_data"
    },
    {
     "name": "stdout",
     "output_type": "stream",
     "text": [
      "Sample1_20 mean = 2.05\n",
      "Sample1_20 std = 1.2031209415515964\n",
      "Sample2_20 mean = 4.4\n",
      "Sample2_20 std = 1.9078784028338915\n"
     ]
    }
   ],
   "source": [
    "sample1_20 = np.random.choice(pop1, 20)\n",
    "sample2_20 = np.random.choice(pop2, 20)\n",
    "\n",
    "plt.hist(sample1_20, alpha = 0.7)\n",
    "plt.axvline(np.mean(sample1_20), color = 'r', linestyle = 'solid', linewidth = 2)\n",
    "plt.hist(sample2_20, alpha = 0.7)\n",
    "plt.axvline(np.mean(sample2_20), color = 'b', linestyle = 'solid', linewidth =2)\n",
    "plt.show()\n",
    "\n",
    "print('Sample1_20 mean = {}'.format(np.mean(sample1_20)))\n",
    "print('Sample1_20 std = {}'.format(np.std(sample1_20)))\n",
    "print('Sample2_20 mean = {}'.format(np.mean(sample2_20)))\n",
    "print('Sample2_20 std = {}'.format(np.std(sample2_20)))"
   ]
  },
  {
   "cell_type": "markdown",
   "metadata": {},
   "source": [
    "### Change probability value for pop1 to 0.3, take new samples and compute the t-statistic and p-value. Then change it to 0.4 and do the same. What changes and why?"
   ]
  },
  {
   "cell_type": "code",
   "execution_count": 27,
   "metadata": {},
   "outputs": [
    {
     "name": "stdout",
     "output_type": "stream",
     "text": [
      "Ttest_indResult(statistic=-10.624237437704968, pvalue=4.9298273597911412e-21)\n"
     ]
    }
   ],
   "source": [
    "pop1 = np.random.binomial(10, 0.3, 10000)\n",
    "\n",
    "sample1 = np.random.choice(pop1, 100)\n",
    "\n",
    "from scipy.stats import ttest_ind\n",
    "print(ttest_ind(sample1, sample2, equal_var = False))"
   ]
  },
  {
   "cell_type": "code",
   "execution_count": 28,
   "metadata": {},
   "outputs": [
    {
     "name": "stdout",
     "output_type": "stream",
     "text": [
      "Ttest_indResult(statistic=-5.6625292315956708, pvalue=5.2786148762562892e-08)\n"
     ]
    }
   ],
   "source": [
    "pop1 = np.random.binomial(10, 0.4, 10000)\n",
    "sample1 = np.random.choice(pop1, 100)\n",
    "\n",
    "from scipy.stats import ttest_ind\n",
    "print(ttest_ind(sample1, sample2, equal_var = False))"
   ]
  },
  {
   "cell_type": "code",
   "execution_count": 37,
   "metadata": {},
   "outputs": [
    {
     "data": {
      "image/png": "[encoded data removed]",
      "text/plain": [
       "<matplotlib.figure.Figure at 0x11761c668>"
      ]
     },
     "metadata": {},
     "output_type": "display_data"
    },
    {
     "name": "stdout",
     "output_type": "stream",
     "text": [
      "Mean of sample 3 = 9.82\n"
     ]
    }
   ],
   "source": [
    "pop3 = np.random.geometric(0.1, 10000)\n",
    "sample3 = np.random.choice(pop3, 100)\n",
    "\n",
    "plt.hist(sample3)\n",
    "plt.axvline(np.mean(sample3), color = 'r', linestyle = 'solid', linewidth = 2)\n",
    "plt.show()\n",
    "\n",
    "print('Mean of sample 3 = {}'.format(np.mean(sample3)))"
   ]
  },
  {
   "cell_type": "code",
   "execution_count": null,
   "metadata": {
    "collapsed": true
   },
   "outputs": [],
   "source": []
  }
 ],
 "metadata": {
  "kernelspec": {
   "display_name": "Python 3",
   "language": "python",
   "name": "python3"
  },
  "language_info": {
   "codemirror_mode": {
    "name": "ipython",
    "version": 3
   },
   "file_extension": ".py",
   "mimetype": "text/x-python",
   "name": "python",
   "nbconvert_exporter": "python",
   "pygments_lexer": "ipython3",
   "version": "3.6.1"
  }
 },
 "nbformat": 4,
 "nbformat_minor": 2
}
