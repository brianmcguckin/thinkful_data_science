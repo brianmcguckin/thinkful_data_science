{
 "cells": [
  {
   "cell_type": "markdown",
   "metadata": {},
   "source": [
    "### Now it's time to flex your critical evaluation skills. Read the following descriptions of an experiment and its analysis, identify the flaws in each, and describe what you would do to correct them."
   ]
  },
  {
   "cell_type": "markdown",
   "metadata": {},
   "source": [
    "#### 1) The Sith Lords are concerned that their recruiting slogan, \"Give In to Your Anger,\" isn't very effective. Darth Vader develops an alternative slogan, \"Together We Can Rule the Galaxy.\" They compare the slogans on two groups of 50 captured droids each. In one group, Emperor Palpatine delivers the \"Anger\" slogan. In the other, Darth Vader presents the \"Together\" slogan. 20 droids convert to the Dark Side after hearing Palpatine's slogan, while only 5 droids convert after hearing Vader's. The Sith's data scientist concludes that \"Anger\" is a more effective slogan and should continue to be used.\n",
    "\n",
    "The two slogans should be delivered by the same Sith representative to control for the messenger's orating prowess and isolate the message. Additionally, depending on the type, origin, and design, the droids may have diffent programming when it comes to defecting and 50 is not a very large sample. The sample size should be increased with attention paid to make sure that the population of droids between the control and test groups are as congruent as possible. It may simply have been that Palpatine's droids are inherently more suggestable than the ones Vader spoke to."
   ]
  },
  {
   "cell_type": "markdown",
   "metadata": {},
   "source": [
    "#### 2) In the past, the Jedi have had difficulty with public relations. They send two envoys, Jar Jar Binks and Mace Windu, to four friendly and four unfriendly planets respectively, with the goal of promoting favorable feelings toward the Jedi. Upon their return, the envoys learn that Jar Jar was much more effective than Windu: Over 75% of the people surveyed said their attitudes had become more favorable after speaking with Jar Jar, while only 65% said their attitudes had become more favorable after speaking with Windu. This makes Windu angry, because he is sure that he had a better success rate than Jar Jar on every planet. The Jedi choose Jar Jar to be their representative in the future.\n",
    "\n",
    "Simpson's paradox is a potential issue with this scenario. Jar Jar could have had one incredibly amicable planet with a large population where a very high rate of people are favorable to Jedis, skewing his average up. In order to obtain more accurate results, Jar Jar and Windu should present to random samples of the same planets instead of being given different planets completely."
   ]
  },
  {
   "cell_type": "markdown",
   "metadata": {},
   "source": [
    "#### 3) A company with work sites in five different countries has sent you data on employee satisfaction rates for workers in Human Resources and workers in Information Technology. Most HR workers are concentrated in three of the countries, while IT workers are equally distributed across worksites. The company requests a report on satisfaction for each job type. You calculate average job satisfaction for HR and for IT and present the report.\n",
    "\n",
    "In this scenario the average job satisfaction needs to be reported carefully. By simply grouping all of HR and all of IT together, the results are exposed to contextual and sample bias. Instead, groups should be compared by country, as external factors such as weather, political stability, economic outlook, etc can all affect satisfaction. Additionally, there are 2 countries with admittedly lower numbers of HR employees than the other 3. For meaningful analysis the population of the underrepresented countries needs to be large enough and random enough to mitigate sample size bias & contextual bias. For example, perhaps the higher level HR employees are in a more desirable country, as well as being more satisfied with their employment due to their stature, while larger numbers of lower level HR employees could be concentrated in less desirable countries where they are cheaper to hire and are inherently less satisfied with their jobs."
   ]
  },
  {
   "cell_type": "markdown",
   "metadata": {},
   "source": [
    "#### 4) When people install the Happy Days Fitness Tracker app, they are asked to \"opt in\" to a data collection scheme where their level of physical activity data is automatically sent to the company for product research purposes. During your interview with the company, they tell you that the app is very effective because after installing the app, the data show that people's activity levels rise steadily. \n",
    "\n",
    "Selection bias is in play here as those who opt in to have their activity data sent could be more likely to be active in general, or more committed to improving their fitness. Other measures should be used to obtain a less biased population, such as monitoring login and length of usage."
   ]
  },
  {
   "cell_type": "markdown",
   "metadata": {},
   "source": [
    "#### 5) To prevent cheating, a teacher writes three versions of a test. She stacks the three versions together, first all copies of Version A, then all copies of Version B, then all copies of Version C. As students arrive for the exam, each student takes a test. When grading the test, the teacher finds that students who took Version B scored higher than students who took either Version A or Version C. She concludes from this that Version B is easier, and discards it.\n",
    "\n",
    "The tests should be distributed randomly among the students instead of in bunches. Friends and study groups arriving to the exam together are more likely to end up with the same version of the test. Friends could be more likely to help each other cheat, and study groups are likely to score higher as a group. For example, say the class has 30 students and there are 10 versions of each test. 15 students put in considerable effort to study, and 10 were in a study group together while the other 5 studied on their own. Consider the study group arrives together and 8 members of the group all end up with version B. This is likely to skew higher scores towards version B as the other students who scored high are split between versions A, C, and the remaining two version B tests."
   ]
  },
  {
   "cell_type": "code",
   "execution_count": null,
   "metadata": {
    "collapsed": true
   },
   "outputs": [],
   "source": []
  }
 ],
 "metadata": {
  "kernelspec": {
   "display_name": "Python 3",
   "language": "python",
   "name": "python3"
  },
  "language_info": {
   "codemirror_mode": {
    "name": "ipython",
    "version": 3
   },
   "file_extension": ".py",
   "mimetype": "text/x-python",
   "name": "python",
   "nbconvert_exporter": "python",
   "pygments_lexer": "ipython3",
   "version": "3.6.1"
  }
 },
 "nbformat": 4,
 "nbformat_minor": 2
}
