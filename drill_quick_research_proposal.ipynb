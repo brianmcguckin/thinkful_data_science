{
 "cells": [
  {
   "cell_type": "markdown",
   "metadata": {},
   "source": [
    "### Look back to the potential experiments in the previous assignment. For one of those experiments, write up the essential points of a research proposal for an improved version of that experiment."
   ]
  },
  {
   "cell_type": "markdown",
   "metadata": {},
   "source": [
    "#### The Sith Lords are concerned that their recruiting slogan, \"Give In to Your Anger,\" isn't very effective. Darth Vader develops an alternative slogan, \"Together We Can Rule the Galaxy.\" They compare the slogans on two groups of 50 captured droids each. In one group, Emperor Palpatine delivers the \"Anger\" slogan. In the other, Darth Vader presents the \"Together\" slogan. 20 droids convert to the Dark Side after hearing Palpatine's slogan, while only 5 droids convert after hearing Vader's. The Sith's data scientist concludes that \"Anger\" is a more effective slogan and should continue to be used.\n",
    "\n",
    "#### The Problem\n",
    "\n",
    "The Sith Lords would like to recruit more droids. Recruiting more droids would result in a more powerful Sith Lord army. It has been suggested that Emperor Palpatine's recruiting slogan \"Give In to Your Anger\" is not an effective slogan for recruiting droids.\n",
    "\n",
    "\n",
    "#### Potential Solution\n",
    "\n",
    "\"Together We Can Rule the Galaxy,\" the new slogan Darth Vader has developed will result in more recruited droids for the Sith Lords.\n",
    "\n",
    "#### Method of Testing the Solution\n",
    "\n",
    "Test the effectiveness of both slogans on captured droids. The variable of interest is the recruitment rate between the droids hearing Palpatine's slogan and Vader's slogan. This is an A/B test where droids hearing Palpatine's slogan are the control group and droids hearing Vader's slogan are the test group. \n",
    "\n",
    "All existing and newly captured droids will be grouped by class and split evenly into two groups to ensure congruent samples. We will measure the recruitment rate of Palpatine's droids and Vader's droids for two months.\n",
    "\n",
    "If Vader's slogan out-recruits captured droids by a 10% margin over Palpatine's droids, we will conclude that Vader's slogan is more effective and implement Vader's slogan while retiring Palpatine's slogan. If Vader's slogan out-recruits Palpatine's slogan but by less than one standard deviation, repeat the experiment for another two months. If Vader's slogan does not outperform Palpatine's slogan, the latter will remain the official Sith Lord recruitment slogan."
   ]
  },
  {
   "cell_type": "code",
   "execution_count": null,
   "metadata": {
    "collapsed": true
   },
   "outputs": [],
   "source": []
  }
 ],
 "metadata": {
  "kernelspec": {
   "display_name": "Python 3",
   "language": "python",
   "name": "python3"
  },
  "language_info": {
   "codemirror_mode": {
    "name": "ipython",
    "version": 3
   },
   "file_extension": ".py",
   "mimetype": "text/x-python",
   "name": "python",
   "nbconvert_exporter": "python",
   "pygments_lexer": "ipython3",
   "version": "3.6.1"
  }
 },
 "nbformat": 4,
 "nbformat_minor": 2
}
