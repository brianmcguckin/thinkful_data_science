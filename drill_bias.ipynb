{
 "cells": [
  {
   "cell_type": "markdown",
   "metadata": {},
   "source": [
    "### For each of the following scenarios, call out the potential biases in the proposed experiment. Do your best to try to discover not only the bias, but the initial design. There is plenty of room for interpretation here, so make sure to state what assumptions you're making."
   ]
  },
  {
   "cell_type": "markdown",
   "metadata": {},
   "source": [
    "#### 1) You're testing advertising emails for a bathing suit company and you test one version of the email in February and the other in May.\n",
    "\n",
    "Assuming the emails are sent to people in the northern hemisphere, many people are more likely to be shopping for bathing suits in May when they are preparing for summer than they are in February (contextual bias)."
   ]
  },
  {
   "cell_type": "markdown",
   "metadata": {},
   "source": [
    "#### 2) You open a clinic to treat anxiety and find that the people who visit show a higher rate of anxiety than the general population\n",
    "\n",
    "People who don't exhibit symptoms of anxiety are unlikely to seek out treatment for anxiety, thus the clinic patient population is not likely to be a random sample of the general population (selection bias)."
   ]
  },
  {
   "cell_type": "markdown",
   "metadata": {},
   "source": [
    "#### 3) You launch a new ad billboard based campaign and see an increase in website visits in the first week\n",
    "\n",
    "Some investigation into this would be necessary, as billboards do not offer a convenient route to a website beyond getting the product in question in people's minds. Website traffic is more likely to be influenced by advertising methods that are delivered on platforms that are already connected to the internet, such as emails and ads on social media or news websites. Street level advertising by way of qr codes, or simply people walking already looking at their phones, are also a more direct route to drive traffic. For the billboards to be effective, they would have to sufficiently plant the product or company in people's mind that they seek it out on their own later. Billboard placement is also an issue, as a billboard visible from a large office building could result in a higher impact on site traffic than one only visible from a busy highway."
   ]
  },
  {
   "cell_type": "markdown",
   "metadata": {},
   "source": [
    "#### 4) You launch a loyalty program but see no change in visits in the first week.\n",
    "\n",
    "A loyalty program is not inherently focused on short-term results. A better measure of the effect of the loyalty program would be to determine retained customers by measuring repeated business over time, and the usage of any loyalty program benefits (ie points, special offers). The fact that you see no change in visits in the first week of the loyalty program deployment doesn't indicate its failure or success."
   ]
  },
  {
   "cell_type": "code",
   "execution_count": null,
   "metadata": {
    "collapsed": true
   },
   "outputs": [],
   "source": []
  }
 ],
 "metadata": {
  "kernelspec": {
   "display_name": "Python 3",
   "language": "python",
   "name": "python3"
  },
  "language_info": {
   "codemirror_mode": {
    "name": "ipython",
    "version": 3
   },
   "file_extension": ".py",
   "mimetype": "text/x-python",
   "name": "python",
   "nbconvert_exporter": "python",
   "pygments_lexer": "ipython3",
   "version": "3.6.1"
  }
 },
 "nbformat": 4,
 "nbformat_minor": 2
}
